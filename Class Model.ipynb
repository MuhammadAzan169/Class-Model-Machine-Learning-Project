{
 "cells": [
  {
   "cell_type": "markdown",
   "id": "446c455f",
   "metadata": {},
   "source": [
    "## MODEL "
   ]
  },
  {
   "cell_type": "code",
   "execution_count": 5,
   "id": "5b582fb3",
   "metadata": {},
   "outputs": [
    {
     "name": "stdout",
     "output_type": "stream",
     "text": [
      "First few rows of the dataset:\n",
      "            fruit_label fruit_name fruit_subtype    mass  width  height  \\\n",
      "Unnamed: 0                                                                \n",
      "0                     1      apple  granny_smith  198.04   8.47    7.29   \n",
      "1                     1      apple  granny_smith  169.98   7.84    6.41   \n",
      "2                     1      apple  granny_smith  183.37   7.58    7.62   \n",
      "3                     2   mandarin      mandarin   88.73   6.31    4.55   \n",
      "4                     2   mandarin      mandarin   80.54   6.30    4.83   \n",
      "\n",
      "            color_score  \n",
      "Unnamed: 0               \n",
      "0                  0.54  \n",
      "1                  0.59  \n",
      "2                  0.60  \n",
      "3                  0.82  \n",
      "4                  0.83  \n",
      "Accuracy: 0.8050847457627118\n",
      "F1 Score: 0.7987770167287951\n",
      "Recall: 0.8050847457627118\n",
      "Precision: 0.8099324774327832\n",
      "Confusion Matrix:\n",
      "[[29  0  6  0]\n",
      " [ 0  9  0  0]\n",
      " [14  0 23  3]\n",
      " [ 0  0  0 34]]\n",
      "Classification Report:\n",
      "              precision    recall  f1-score   support\n",
      "\n",
      "           1       0.67      0.83      0.74        35\n",
      "           2       1.00      1.00      1.00         9\n",
      "           3       0.79      0.57      0.67        40\n",
      "           4       0.92      1.00      0.96        34\n",
      "\n",
      "    accuracy                           0.81       118\n",
      "   macro avg       0.85      0.85      0.84       118\n",
      "weighted avg       0.81      0.81      0.80       118\n",
      "\n"
     ]
    },
    {
     "name": "stderr",
     "output_type": "stream",
     "text": [
      "C:\\Users\\LENOVO\\anaconda3\\Lib\\site-packages\\sklearn\\linear_model\\_logistic.py:460: ConvergenceWarning: lbfgs failed to converge (status=1):\n",
      "STOP: TOTAL NO. of ITERATIONS REACHED LIMIT.\n",
      "\n",
      "Increase the number of iterations (max_iter) or scale the data as shown in:\n",
      "    https://scikit-learn.org/stable/modules/preprocessing.html\n",
      "Please also refer to the documentation for alternative solver options:\n",
      "    https://scikit-learn.org/stable/modules/linear_model.html#logistic-regression\n",
      "  n_iter_i = _check_optimize_result(\n"
     ]
    }
   ],
   "source": [
    "import pandas as pd\n",
    "from sklearn.model_selection import train_test_split\n",
    "from sklearn.linear_model import LogisticRegression\n",
    "from sklearn.metrics import accuracy_score, f1_score, recall_score, precision_score, confusion_matrix, classification_report\n",
    "\n",
    "class FruitClassifier:\n",
    "\n",
    "  def __init__(self, filepath):\n",
    "    self.data = self.load_data(filepath)\n",
    "\n",
    "  def load_data(self, filepath):\n",
    "    return pd.read_csv(filepath, index_col=0)\n",
    "\n",
    "  def preprocess_data(self):\n",
    "    X = self.data[['mass', 'width', 'height', 'color_score']]  # Features\n",
    "    y = self.data['fruit_label']  # Target\n",
    "    return X, y\n",
    "\n",
    "  def split_data(self, test_size=0.2, random_state=42):\n",
    "    X, y = self.preprocess_data()\n",
    "    return train_test_split(X, y, test_size=test_size, random_state=random_state)\n",
    "\n",
    "  def train_model(self, X_train, y_train):\n",
    "    model = LogisticRegression(max_iter=1000)\n",
    "    model.fit(X_train, y_train)\n",
    "    return model\n",
    "\n",
    "  def evaluate_model(self, model, X_test, y_test):\n",
    "    y_pred = model.predict(X_test)\n",
    "    accuracy = accuracy_score(y_test, y_pred)\n",
    "    f1 = f1_score(y_test, y_pred, average='weighted')\n",
    "    recall = recall_score(y_test, y_pred, average='weighted')\n",
    "    precision = precision_score(y_test, y_pred, average='weighted')\n",
    "    conf_matrix = confusion_matrix(y_test, y_pred)\n",
    "    class_report = classification_report(y_test, y_pred)\n",
    "    return accuracy, f1, recall, precision, conf_matrix, class_report\n",
    "\n",
    "  def run(self):\n",
    "    X_train, X_test, y_train, y_test = self.split_data()\n",
    "    model = self.train_model(X_train, y_train)\n",
    "    accuracy, f1, recall, precision, conf_matrix, class_report = self.evaluate_model(model, X_test, y_test)\n",
    "\n",
    "    print(\"First few rows of the dataset:\")\n",
    "    print(self.data.head())\n",
    "\n",
    "    print(f\"Accuracy: {accuracy}\")\n",
    "    print(f\"F1 Score: {f1}\")\n",
    "    print(f\"Recall: {recall}\")\n",
    "    print(f\"Precision: {precision}\")\n",
    "    print(\"Confusion Matrix:\")\n",
    "    print(conf_matrix)\n",
    "    print(\"Classification Report:\")\n",
    "    print(class_report)\n",
    "\n",
    "if __name__ == \"__main__\":\n",
    "  filepath = \"C:\\\\Users\\\\LENOVO\\\\Downloads\\\\fruits.csv\"\n",
    "  classifier = FruitClassifier(filepath)\n",
    "  classifier.run()\n"
   ]
  },
  {
   "cell_type": "markdown",
   "id": "f0da333b",
   "metadata": {},
   "source": [
    " "
   ]
  },
  {
   "cell_type": "code",
   "execution_count": null,
   "id": "0a1da1cf",
   "metadata": {},
   "outputs": [],
   "source": []
  },
  {
   "cell_type": "code",
   "execution_count": null,
   "id": "1ca7ee5f",
   "metadata": {},
   "outputs": [],
   "source": []
  }
 ],
 "metadata": {
  "kernelspec": {
   "display_name": "Python 3 (ipykernel)",
   "language": "python",
   "name": "python3"
  },
  "language_info": {
   "codemirror_mode": {
    "name": "ipython",
    "version": 3
   },
   "file_extension": ".py",
   "mimetype": "text/x-python",
   "name": "python",
   "nbconvert_exporter": "python",
   "pygments_lexer": "ipython3",
   "version": "3.11.5"
  }
 },
 "nbformat": 4,
 "nbformat_minor": 5
}
